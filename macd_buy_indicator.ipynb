{
 "cells": [
  {
   "cell_type": "code",
   "execution_count": null,
   "metadata": {},
   "outputs": [],
   "source": [
    "#Import Necessary Libraries\n",
    "import yfinance as yf\n",
    "import numpy as np\n",
    "import pandas as pd\n",
    "import matplotlib.pyplot as plt"
   ]
  },
  {
   "cell_type": "code",
   "execution_count": null,
   "metadata": {},
   "outputs": [],
   "source": [
    "# Enter the ticker of the stock you want to analyze\n",
    "ticker = \"insert ticker here\"\n",
    "\n",
    "# Get stock data from yahoo finance\n",
    "stock_data = yf.Ticker(ticker).history(period=\"1y\")"
   ]
  },
  {
   "cell_type": "code",
   "execution_count": null,
   "metadata": {},
   "outputs": [],
   "source": [
    "# Calculate the Moving Average Convergence Divergence (MACD)\n",
    "stock_data[\"EMA_12\"] = stock_data[\"Close\"].ewm(span=12, adjust=False).mean()\n",
    "stock_data[\"EMA_26\"] = stock_data[\"Close\"].ewm(span=26, adjust=False).mean()\n",
    "stock_data[\"MACD\"] = stock_data[\"EMA_12\"] - stock_data[\"EMA_26\"]"
   ]
  },
  {
   "cell_type": "code",
   "execution_count": null,
   "metadata": {},
   "outputs": [],
   "source": [
    "# Calculate the MACD signal line\n",
    "stock_data[\"MACD_Signal\"] = stock_data[\"MACD\"].ewm(span=9, adjust=False).mean()\n",
    "\n",
    "# Calculate the MACD histogram\n",
    "stock_data[\"MACD_Hist\"] = stock_data[\"MACD\"] - stock_data[\"MACD_Signal\"]\n",
    "\n",
    "# Calculate the Moving Average (MA)\n",
    "stock_data[\"MA_50\"] = stock_data[\"Close\"].rolling(50).mean()\n",
    "stock_data[\"MA_200\"] = stock_data[\"Close\"].rolling(200).mean()\n",
    "\n",
    "# Calculate the percentage change of the MACD histogram\n",
    "stock_data[\"MACD_Hist_Change\"] = stock_data[\"MACD_Hist\"].pct_change()\n",
    "\n",
    "# Set the index to the date column\n",
    "stock_data.index = stock_data.index.date"
   ]
  },
  {
   "cell_type": "code",
   "execution_count": null,
   "metadata": {},
   "outputs": [],
   "source": [
    "# Plot the MACD and MACD histogram\n",
    "plt.plot(stock_data.index, stock_data[\"MACD\"], label=\"MACD Value\")\n",
    "plt.plot(stock_data.index, stock_data[\"MACD_Signal\"], label=\"MACD Signal\")\n",
    "plt.bar(stock_data.index, stock_data[\"MACD_Hist\"], label=\"MACD Histogram\")\n",
    "plt.title(f'{ticker} MACD Chart')\n",
    "plt.legend()\n",
    "plt.show()"
   ]
  },
  {
   "cell_type": "code",
   "execution_count": null,
   "metadata": {},
   "outputs": [],
   "source": [
    "# Check if the MACD value is above the MACD signal line and the MACD histogram is positive and increasing\n",
    "if (stock_data[\"MACD\"].iloc[-1] > stock_data[\"MACD_Signal\"].iloc[-1]) and (stock_data[\"MACD_Hist\"].iloc[-1] > 0) and (stock_data[\"MACD_Hist_Change\"].iloc[-1] > 0):\n",
    "  print(\"Based on the MACD, it looks like a good time to buy the stock.\")\n",
    "  # Calculate the percentage change of the MACD histogram over the past 10 days\n",
    "  hist_change = stock_data[\"MACD_Hist_Change\"].tail(10).mean() * 100\n",
    "  # Calculate the level of confidence in the buy recommendation based on the percentage change of the MACD histogram\n",
    "  if hist_change > 10:\n",
    "    print(\"MACD indicates strong confidence that this is a good buy.\")\n",
    "  elif hist_change > 5:\n",
    "    print(\"MACD indicates mild confidence that this is a good buy.\")\n",
    "  else:\n",
    "    print(\"It may not be a good time to buy this stock.\")\n",
    "\n",
    "# Print MACD Values for Clarity\n",
    "macd_value = stock_data['MACD'].iloc[-1]\n",
    "macd_signal = stock_data[\"MACD_Signal\"].iloc[-1]\n",
    "macd_hist_change = stock_data[\"MACD_Hist_Change\"].iloc[-1]\n",
    "hist_change = stock_data[\"MACD_Hist_Change\"].tail(10).mean() * 100\n",
    "print(f'The MACD Value is {macd_value}')\n",
    "print(f'The MACD Signal is {macd_signal}')\n",
    "print(f'MACD Histogram Change is: {macd_hist_change}')\n",
    "print(f'Hist. Change: {hist_change} (where >10 = very confident, >5 somewhat confident, <5 = probabbly not)')"
   ]
  },
  {
   "cell_type": "code",
   "execution_count": null,
   "metadata": {},
   "outputs": [],
   "source": [
    "# Plot the stock price and MACD\n",
    "plt.plot(stock_data.index, stock_data[\"Close\"], label=\"Stock Price\")\n",
    "plt.plot(stock_data.index, stock_data[\"MACD\"], label=\"MACD\")\n",
    "plt.plot(stock_data.index, stock_data[\"MACD_Signal\"], label=\"MACD Signal\")\n",
    "plt.legend()\n",
    "plt.show()"
   ]
  }
 ],
 "metadata": {
  "kernelspec": {
   "display_name": "Python 3.10.7 64-bit",
   "language": "python",
   "name": "python3"
  },
  "language_info": {
   "codemirror_mode": {
    "name": "ipython",
    "version": 3
   },
   "file_extension": ".py",
   "mimetype": "text/x-python",
   "name": "python",
   "nbconvert_exporter": "python",
   "pygments_lexer": "ipython3",
   "version": "3.11.1"
  },
  "orig_nbformat": 4,
  "vscode": {
   "interpreter": {
    "hash": "aee8b7b246df8f9039afb4144a1f6fd8d2ca17a180786b69acc140d282b71a49"
   }
  }
 },
 "nbformat": 4,
 "nbformat_minor": 2
}
